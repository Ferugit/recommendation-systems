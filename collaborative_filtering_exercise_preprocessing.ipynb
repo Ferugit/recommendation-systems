{
 "cells": [
  {
   "cell_type": "markdown",
   "metadata": {},
   "source": [
    "# Filtrado colaborativo (preprocesamiento)\n",
    "\n",
    "**Autor**: Arturo Sánchez Palacio\n",
    "\n",
    "Basado en: https://github.com/lazyprogrammer\n",
    "\n",
    "**Fecha de última revisión: 15/I/2020**"
   ]
  },
  {
   "cell_type": "markdown",
   "metadata": {},
   "source": [
    "Estos son los módulos que usaremos en esta tarea:"
   ]
  },
  {
   "cell_type": "markdown",
   "metadata": {},
   "source": [
    "__Nota.__ Si no se dispone de alguno de los módulos se puede instalar desde Jupyter mediante la instrucción:"
   ]
  },
  {
   "cell_type": "raw",
   "metadata": {},
   "source": [
    "!conda install nombre_módulo"
   ]
  },
  {
   "cell_type": "raw",
   "metadata": {},
   "source": [
    "!pip install nombre_módulo"
   ]
  },
  {
   "cell_type": "markdown",
   "metadata": {},
   "source": [
    "dependiendo de si se emplea pip o Anaconda. El módulo debe ser instalado antes de ser importado."
   ]
  },
  {
   "cell_type": "code",
   "execution_count": 1,
   "metadata": {},
   "outputs": [],
   "source": [
    "import pandas as pd\n",
    "import pickle"
   ]
  },
  {
   "cell_type": "markdown",
   "metadata": {},
   "source": [
    "#### To do. Cargamos los datos a partir del archivo `rating.csv`:"
   ]
  },
  {
   "cell_type": "code",
   "execution_count": 4,
   "metadata": {},
   "outputs": [],
   "source": [
    "rating_df =  pd.read_csv(\"data/rating.csv\")"
   ]
  },
  {
   "cell_type": "markdown",
   "metadata": {},
   "source": [
    "#### To do. Comprobamos el tamaño del archivo y que se haya leído correctamente:"
   ]
  },
  {
   "cell_type": "code",
   "execution_count": 14,
   "metadata": {},
   "outputs": [
    {
     "name": "stdout",
     "output_type": "stream",
     "text": [
      "Size of the table: (20000263, 4)\n"
     ]
    }
   ],
   "source": [
    "df = rating_df\n",
    "print('Size of the table: ' + str(df.shape))"
   ]
  },
  {
   "cell_type": "code",
   "execution_count": 15,
   "metadata": {},
   "outputs": [
    {
     "data": {
      "text/html": [
       "<div>\n",
       "<style scoped>\n",
       "    .dataframe tbody tr th:only-of-type {\n",
       "        vertical-align: middle;\n",
       "    }\n",
       "\n",
       "    .dataframe tbody tr th {\n",
       "        vertical-align: top;\n",
       "    }\n",
       "\n",
       "    .dataframe thead th {\n",
       "        text-align: right;\n",
       "    }\n",
       "</style>\n",
       "<table border=\"1\" class=\"dataframe\">\n",
       "  <thead>\n",
       "    <tr style=\"text-align: right;\">\n",
       "      <th></th>\n",
       "      <th>userId</th>\n",
       "      <th>movieId</th>\n",
       "      <th>rating</th>\n",
       "    </tr>\n",
       "  </thead>\n",
       "  <tbody>\n",
       "    <tr>\n",
       "      <th>count</th>\n",
       "      <td>2.000026e+07</td>\n",
       "      <td>2.000026e+07</td>\n",
       "      <td>2.000026e+07</td>\n",
       "    </tr>\n",
       "    <tr>\n",
       "      <th>mean</th>\n",
       "      <td>6.904487e+04</td>\n",
       "      <td>9.041567e+03</td>\n",
       "      <td>3.525529e+00</td>\n",
       "    </tr>\n",
       "    <tr>\n",
       "      <th>std</th>\n",
       "      <td>4.003863e+04</td>\n",
       "      <td>1.978948e+04</td>\n",
       "      <td>1.051989e+00</td>\n",
       "    </tr>\n",
       "    <tr>\n",
       "      <th>min</th>\n",
       "      <td>0.000000e+00</td>\n",
       "      <td>1.000000e+00</td>\n",
       "      <td>5.000000e-01</td>\n",
       "    </tr>\n",
       "    <tr>\n",
       "      <th>25%</th>\n",
       "      <td>3.439400e+04</td>\n",
       "      <td>9.020000e+02</td>\n",
       "      <td>3.000000e+00</td>\n",
       "    </tr>\n",
       "    <tr>\n",
       "      <th>50%</th>\n",
       "      <td>6.914000e+04</td>\n",
       "      <td>2.167000e+03</td>\n",
       "      <td>3.500000e+00</td>\n",
       "    </tr>\n",
       "    <tr>\n",
       "      <th>75%</th>\n",
       "      <td>1.036360e+05</td>\n",
       "      <td>4.770000e+03</td>\n",
       "      <td>4.000000e+00</td>\n",
       "    </tr>\n",
       "    <tr>\n",
       "      <th>max</th>\n",
       "      <td>1.384920e+05</td>\n",
       "      <td>1.312620e+05</td>\n",
       "      <td>5.000000e+00</td>\n",
       "    </tr>\n",
       "  </tbody>\n",
       "</table>\n",
       "</div>"
      ],
      "text/plain": [
       "             userId       movieId        rating\n",
       "count  2.000026e+07  2.000026e+07  2.000026e+07\n",
       "mean   6.904487e+04  9.041567e+03  3.525529e+00\n",
       "std    4.003863e+04  1.978948e+04  1.051989e+00\n",
       "min    0.000000e+00  1.000000e+00  5.000000e-01\n",
       "25%    3.439400e+04  9.020000e+02  3.000000e+00\n",
       "50%    6.914000e+04  2.167000e+03  3.500000e+00\n",
       "75%    1.036360e+05  4.770000e+03  4.000000e+00\n",
       "max    1.384920e+05  1.312620e+05  5.000000e+00"
      ]
     },
     "execution_count": 15,
     "metadata": {},
     "output_type": "execute_result"
    }
   ],
   "source": [
    "df.describe()"
   ]
  },
  {
   "cell_type": "code",
   "execution_count": 16,
   "metadata": {},
   "outputs": [
    {
     "data": {
      "text/html": [
       "<div>\n",
       "<style scoped>\n",
       "    .dataframe tbody tr th:only-of-type {\n",
       "        vertical-align: middle;\n",
       "    }\n",
       "\n",
       "    .dataframe tbody tr th {\n",
       "        vertical-align: top;\n",
       "    }\n",
       "\n",
       "    .dataframe thead th {\n",
       "        text-align: right;\n",
       "    }\n",
       "</style>\n",
       "<table border=\"1\" class=\"dataframe\">\n",
       "  <thead>\n",
       "    <tr style=\"text-align: right;\">\n",
       "      <th></th>\n",
       "      <th>userId</th>\n",
       "      <th>movieId</th>\n",
       "      <th>rating</th>\n",
       "      <th>timestamp</th>\n",
       "    </tr>\n",
       "  </thead>\n",
       "  <tbody>\n",
       "    <tr>\n",
       "      <th>20000258</th>\n",
       "      <td>138492</td>\n",
       "      <td>68954</td>\n",
       "      <td>4.5</td>\n",
       "      <td>2009-11-13 15:42:00</td>\n",
       "    </tr>\n",
       "    <tr>\n",
       "      <th>20000259</th>\n",
       "      <td>138492</td>\n",
       "      <td>69526</td>\n",
       "      <td>4.5</td>\n",
       "      <td>2009-12-03 18:31:48</td>\n",
       "    </tr>\n",
       "    <tr>\n",
       "      <th>20000260</th>\n",
       "      <td>138492</td>\n",
       "      <td>69644</td>\n",
       "      <td>3.0</td>\n",
       "      <td>2009-12-07 18:10:57</td>\n",
       "    </tr>\n",
       "    <tr>\n",
       "      <th>20000261</th>\n",
       "      <td>138492</td>\n",
       "      <td>70286</td>\n",
       "      <td>5.0</td>\n",
       "      <td>2009-11-13 15:42:24</td>\n",
       "    </tr>\n",
       "    <tr>\n",
       "      <th>20000262</th>\n",
       "      <td>138492</td>\n",
       "      <td>71619</td>\n",
       "      <td>2.5</td>\n",
       "      <td>2009-10-17 20:25:36</td>\n",
       "    </tr>\n",
       "  </tbody>\n",
       "</table>\n",
       "</div>"
      ],
      "text/plain": [
       "          userId  movieId  rating            timestamp\n",
       "20000258  138492    68954     4.5  2009-11-13 15:42:00\n",
       "20000259  138492    69526     4.5  2009-12-03 18:31:48\n",
       "20000260  138492    69644     3.0  2009-12-07 18:10:57\n",
       "20000261  138492    70286     5.0  2009-11-13 15:42:24\n",
       "20000262  138492    71619     2.5  2009-10-17 20:25:36"
      ]
     },
     "execution_count": 16,
     "metadata": {},
     "output_type": "execute_result"
    }
   ],
   "source": [
    "df.tail()"
   ]
  },
  {
   "cell_type": "markdown",
   "metadata": {},
   "source": [
    "Parece que se ha cargado correctamente.\n",
    "\n",
    "Nuestra primera tarea es construir la matriz de usuarios-valoraciones.\n",
    "\n",
    "Cuando trabajamos con datos y especialmente con grandes cantidades de datos siempre debemos tener en mente la eficiencia computacional. Así a la hora de construir la matriz nos interesa que los índices estén aprovechados, es decir:"
   ]
  },
  {
   "cell_type": "code",
   "execution_count": 8,
   "metadata": {},
   "outputs": [
    {
     "name": "stdout",
     "output_type": "stream",
     "text": [
      "1 138493\n"
     ]
    }
   ],
   "source": [
    "print(df.userId.min(), df.userId.max())"
   ]
  },
  {
   "cell_type": "markdown",
   "metadata": {},
   "source": [
    "Que los usuarios estén identificados por índices consecutivos sin huecos. Estos huecos supondrían filas vacías en nuestra matriz que ocuparían memoria sin aportar ninguna información ya que el índice es simplemente informativo."
   ]
  },
  {
   "cell_type": "markdown",
   "metadata": {},
   "source": [
    "#### To do. Comprobar cuántos índices distintos de usuario hay almacenados. ¿Hay huecos en el índice?"
   ]
  },
  {
   "cell_type": "code",
   "execution_count": 20,
   "metadata": {},
   "outputs": [
    {
     "name": "stdout",
     "output_type": "stream",
     "text": [
      "Number of unique values of users Id: 138493\n"
     ]
    }
   ],
   "source": [
    "#Check unic values\n",
    "print(\"Number of unique values of users Id: \" + str(df['userId'].nunique()))"
   ]
  },
  {
   "cell_type": "code",
   "execution_count": 21,
   "metadata": {},
   "outputs": [
    {
     "name": "stdout",
     "output_type": "stream",
     "text": [
      "Number of null values of users Id: 0\n"
     ]
    }
   ],
   "source": [
    "#Check null fields\n",
    "print(\"Number of null values of users Id: \" + str(df['userId'].isnull().sum()))"
   ]
  },
  {
   "cell_type": "markdown",
   "metadata": {},
   "source": [
    "Como la indexación en Python comienza en 0 restamos uno a los índices:"
   ]
  },
  {
   "cell_type": "code",
   "execution_count": 11,
   "metadata": {},
   "outputs": [],
   "source": [
    "df.userId = df.userId - 1"
   ]
  },
  {
   "cell_type": "code",
   "execution_count": 12,
   "metadata": {},
   "outputs": [
    {
     "name": "stdout",
     "output_type": "stream",
     "text": [
      "0 138492\n"
     ]
    }
   ],
   "source": [
    "print(df.userId.min(), df.userId.max())"
   ]
  },
  {
   "cell_type": "markdown",
   "metadata": {},
   "source": [
    "Realizamos la misma comprobación para los índices asociados a las películas:"
   ]
  },
  {
   "cell_type": "code",
   "execution_count": 13,
   "metadata": {},
   "outputs": [
    {
     "name": "stdout",
     "output_type": "stream",
     "text": [
      "1 131262\n"
     ]
    }
   ],
   "source": [
    "print(df.movieId.min(), df.movieId.max())"
   ]
  },
  {
   "cell_type": "code",
   "execution_count": 18,
   "metadata": {},
   "outputs": [
    {
     "name": "stdout",
     "output_type": "stream",
     "text": [
      "Nº of unic vlaues: 26744\n",
      "Nº of null fields: 0\n"
     ]
    }
   ],
   "source": [
    "#mismo que apartado anterior\n",
    "print('Nº of unic vlaues: ' + str(df['movieId'].nunique()))\n",
    "print('Nº of null fields: ' +str(df['movieId'].isnull().sum()))"
   ]
  },
  {
   "cell_type": "markdown",
   "metadata": {},
   "source": [
    "En este caso los índices no están asignados secuencialmente (puede que se hayan descartado películas sin votos, por ejemplo). Realizamos una reindexación de las películas para tenerlas identificadas de manera secuencial:"
   ]
  },
  {
   "cell_type": "markdown",
   "metadata": {},
   "source": [
    "#### To do. Reindexar las películas para tenerlas identificadas de manera secuencial:"
   ]
  },
  {
   "cell_type": "code",
   "execution_count": 24,
   "metadata": {},
   "outputs": [],
   "source": [
    "unique_movie_ids = set(df.movieId.values) # In a set type there are not repeted values\n",
    "diccionario_indice_peli = {} #key: film, value: new index\n",
    "\n",
    "nuevo_indice = 0\n",
    "\n",
    "for pelicula in unique_movie_ids:\n",
    "    diccionario_indice_peli[pelicula] = nuevo_indice\n",
    "    nuevo_indice += 1\n",
    "    \n",
    "df['movie_idx'] = df.apply(lambda row: diccionario_indice_peli[row.movieId], axis=1)\n"
   ]
  },
  {
   "cell_type": "markdown",
   "metadata": {},
   "source": [
    "__Nota.__ Estamos añadiendo 20 millones de datos así que es normal que tarde un rato."
   ]
  },
  {
   "cell_type": "markdown",
   "metadata": {},
   "source": [
    "Comprobamos que la columna se ha añadido al dataframe y que todo es correcto:"
   ]
  },
  {
   "cell_type": "code",
   "execution_count": 25,
   "metadata": {},
   "outputs": [
    {
     "data": {
      "text/html": [
       "<div>\n",
       "<style scoped>\n",
       "    .dataframe tbody tr th:only-of-type {\n",
       "        vertical-align: middle;\n",
       "    }\n",
       "\n",
       "    .dataframe tbody tr th {\n",
       "        vertical-align: top;\n",
       "    }\n",
       "\n",
       "    .dataframe thead th {\n",
       "        text-align: right;\n",
       "    }\n",
       "</style>\n",
       "<table border=\"1\" class=\"dataframe\">\n",
       "  <thead>\n",
       "    <tr style=\"text-align: right;\">\n",
       "      <th></th>\n",
       "      <th>userId</th>\n",
       "      <th>movieId</th>\n",
       "      <th>rating</th>\n",
       "      <th>timestamp</th>\n",
       "      <th>movie_idx</th>\n",
       "    </tr>\n",
       "  </thead>\n",
       "  <tbody>\n",
       "    <tr>\n",
       "      <th>0</th>\n",
       "      <td>0</td>\n",
       "      <td>2</td>\n",
       "      <td>3.5</td>\n",
       "      <td>2005-04-02 23:53:47</td>\n",
       "      <td>2</td>\n",
       "    </tr>\n",
       "    <tr>\n",
       "      <th>1</th>\n",
       "      <td>0</td>\n",
       "      <td>29</td>\n",
       "      <td>3.5</td>\n",
       "      <td>2005-04-02 23:31:16</td>\n",
       "      <td>29</td>\n",
       "    </tr>\n",
       "    <tr>\n",
       "      <th>2</th>\n",
       "      <td>0</td>\n",
       "      <td>32</td>\n",
       "      <td>3.5</td>\n",
       "      <td>2005-04-02 23:33:39</td>\n",
       "      <td>32</td>\n",
       "    </tr>\n",
       "    <tr>\n",
       "      <th>3</th>\n",
       "      <td>0</td>\n",
       "      <td>47</td>\n",
       "      <td>3.5</td>\n",
       "      <td>2005-04-02 23:32:07</td>\n",
       "      <td>47</td>\n",
       "    </tr>\n",
       "    <tr>\n",
       "      <th>4</th>\n",
       "      <td>0</td>\n",
       "      <td>50</td>\n",
       "      <td>3.5</td>\n",
       "      <td>2005-04-02 23:29:40</td>\n",
       "      <td>50</td>\n",
       "    </tr>\n",
       "  </tbody>\n",
       "</table>\n",
       "</div>"
      ],
      "text/plain": [
       "   userId  movieId  rating            timestamp  movie_idx\n",
       "0       0        2     3.5  2005-04-02 23:53:47          2\n",
       "1       0       29     3.5  2005-04-02 23:31:16         29\n",
       "2       0       32     3.5  2005-04-02 23:33:39         32\n",
       "3       0       47     3.5  2005-04-02 23:32:07         47\n",
       "4       0       50     3.5  2005-04-02 23:29:40         50"
      ]
     },
     "execution_count": 25,
     "metadata": {},
     "output_type": "execute_result"
    }
   ],
   "source": [
    "df.head()"
   ]
  },
  {
   "cell_type": "code",
   "execution_count": 26,
   "metadata": {},
   "outputs": [
    {
     "name": "stdout",
     "output_type": "stream",
     "text": [
      "0 26743\n"
     ]
    }
   ],
   "source": [
    "print(df.movie_idx.min(), df.movie_idx.max())"
   ]
  },
  {
   "cell_type": "markdown",
   "metadata": {},
   "source": [
    "Finalmente en este ejercicio no usaremos la fecha así que podemos eliminar la columna para ahorrar memoria:"
   ]
  },
  {
   "cell_type": "markdown",
   "metadata": {},
   "source": [
    "#### To do. Eliminar la columna con las fechas:"
   ]
  },
  {
   "cell_type": "code",
   "execution_count": 27,
   "metadata": {},
   "outputs": [
    {
     "data": {
      "text/html": [
       "<div>\n",
       "<style scoped>\n",
       "    .dataframe tbody tr th:only-of-type {\n",
       "        vertical-align: middle;\n",
       "    }\n",
       "\n",
       "    .dataframe tbody tr th {\n",
       "        vertical-align: top;\n",
       "    }\n",
       "\n",
       "    .dataframe thead th {\n",
       "        text-align: right;\n",
       "    }\n",
       "</style>\n",
       "<table border=\"1\" class=\"dataframe\">\n",
       "  <thead>\n",
       "    <tr style=\"text-align: right;\">\n",
       "      <th></th>\n",
       "      <th>userId</th>\n",
       "      <th>movieId</th>\n",
       "      <th>rating</th>\n",
       "      <th>movie_idx</th>\n",
       "    </tr>\n",
       "  </thead>\n",
       "  <tbody>\n",
       "    <tr>\n",
       "      <th>0</th>\n",
       "      <td>0</td>\n",
       "      <td>2</td>\n",
       "      <td>3.5</td>\n",
       "      <td>2</td>\n",
       "    </tr>\n",
       "    <tr>\n",
       "      <th>1</th>\n",
       "      <td>0</td>\n",
       "      <td>29</td>\n",
       "      <td>3.5</td>\n",
       "      <td>29</td>\n",
       "    </tr>\n",
       "    <tr>\n",
       "      <th>2</th>\n",
       "      <td>0</td>\n",
       "      <td>32</td>\n",
       "      <td>3.5</td>\n",
       "      <td>32</td>\n",
       "    </tr>\n",
       "    <tr>\n",
       "      <th>3</th>\n",
       "      <td>0</td>\n",
       "      <td>47</td>\n",
       "      <td>3.5</td>\n",
       "      <td>47</td>\n",
       "    </tr>\n",
       "    <tr>\n",
       "      <th>4</th>\n",
       "      <td>0</td>\n",
       "      <td>50</td>\n",
       "      <td>3.5</td>\n",
       "      <td>50</td>\n",
       "    </tr>\n",
       "    <tr>\n",
       "      <th>5</th>\n",
       "      <td>0</td>\n",
       "      <td>112</td>\n",
       "      <td>3.5</td>\n",
       "      <td>112</td>\n",
       "    </tr>\n",
       "    <tr>\n",
       "      <th>6</th>\n",
       "      <td>0</td>\n",
       "      <td>151</td>\n",
       "      <td>4.0</td>\n",
       "      <td>151</td>\n",
       "    </tr>\n",
       "    <tr>\n",
       "      <th>7</th>\n",
       "      <td>0</td>\n",
       "      <td>223</td>\n",
       "      <td>4.0</td>\n",
       "      <td>222</td>\n",
       "    </tr>\n",
       "    <tr>\n",
       "      <th>8</th>\n",
       "      <td>0</td>\n",
       "      <td>253</td>\n",
       "      <td>4.0</td>\n",
       "      <td>252</td>\n",
       "    </tr>\n",
       "    <tr>\n",
       "      <th>9</th>\n",
       "      <td>0</td>\n",
       "      <td>260</td>\n",
       "      <td>4.0</td>\n",
       "      <td>259</td>\n",
       "    </tr>\n",
       "    <tr>\n",
       "      <th>10</th>\n",
       "      <td>0</td>\n",
       "      <td>293</td>\n",
       "      <td>4.0</td>\n",
       "      <td>292</td>\n",
       "    </tr>\n",
       "    <tr>\n",
       "      <th>11</th>\n",
       "      <td>0</td>\n",
       "      <td>296</td>\n",
       "      <td>4.0</td>\n",
       "      <td>295</td>\n",
       "    </tr>\n",
       "    <tr>\n",
       "      <th>12</th>\n",
       "      <td>0</td>\n",
       "      <td>318</td>\n",
       "      <td>4.0</td>\n",
       "      <td>317</td>\n",
       "    </tr>\n",
       "    <tr>\n",
       "      <th>13</th>\n",
       "      <td>0</td>\n",
       "      <td>337</td>\n",
       "      <td>3.5</td>\n",
       "      <td>335</td>\n",
       "    </tr>\n",
       "    <tr>\n",
       "      <th>14</th>\n",
       "      <td>0</td>\n",
       "      <td>367</td>\n",
       "      <td>3.5</td>\n",
       "      <td>365</td>\n",
       "    </tr>\n",
       "    <tr>\n",
       "      <th>15</th>\n",
       "      <td>0</td>\n",
       "      <td>541</td>\n",
       "      <td>4.0</td>\n",
       "      <td>539</td>\n",
       "    </tr>\n",
       "    <tr>\n",
       "      <th>16</th>\n",
       "      <td>0</td>\n",
       "      <td>589</td>\n",
       "      <td>3.5</td>\n",
       "      <td>585</td>\n",
       "    </tr>\n",
       "    <tr>\n",
       "      <th>17</th>\n",
       "      <td>0</td>\n",
       "      <td>593</td>\n",
       "      <td>3.5</td>\n",
       "      <td>589</td>\n",
       "    </tr>\n",
       "    <tr>\n",
       "      <th>18</th>\n",
       "      <td>0</td>\n",
       "      <td>653</td>\n",
       "      <td>3.0</td>\n",
       "      <td>647</td>\n",
       "    </tr>\n",
       "    <tr>\n",
       "      <th>19</th>\n",
       "      <td>0</td>\n",
       "      <td>919</td>\n",
       "      <td>3.5</td>\n",
       "      <td>904</td>\n",
       "    </tr>\n",
       "    <tr>\n",
       "      <th>20</th>\n",
       "      <td>0</td>\n",
       "      <td>924</td>\n",
       "      <td>3.5</td>\n",
       "      <td>909</td>\n",
       "    </tr>\n",
       "    <tr>\n",
       "      <th>21</th>\n",
       "      <td>0</td>\n",
       "      <td>1009</td>\n",
       "      <td>3.5</td>\n",
       "      <td>992</td>\n",
       "    </tr>\n",
       "    <tr>\n",
       "      <th>22</th>\n",
       "      <td>0</td>\n",
       "      <td>1036</td>\n",
       "      <td>4.0</td>\n",
       "      <td>1019</td>\n",
       "    </tr>\n",
       "    <tr>\n",
       "      <th>23</th>\n",
       "      <td>0</td>\n",
       "      <td>1079</td>\n",
       "      <td>4.0</td>\n",
       "      <td>1059</td>\n",
       "    </tr>\n",
       "    <tr>\n",
       "      <th>24</th>\n",
       "      <td>0</td>\n",
       "      <td>1080</td>\n",
       "      <td>3.5</td>\n",
       "      <td>1060</td>\n",
       "    </tr>\n",
       "    <tr>\n",
       "      <th>25</th>\n",
       "      <td>0</td>\n",
       "      <td>1089</td>\n",
       "      <td>3.5</td>\n",
       "      <td>1069</td>\n",
       "    </tr>\n",
       "    <tr>\n",
       "      <th>26</th>\n",
       "      <td>0</td>\n",
       "      <td>1090</td>\n",
       "      <td>4.0</td>\n",
       "      <td>1070</td>\n",
       "    </tr>\n",
       "    <tr>\n",
       "      <th>27</th>\n",
       "      <td>0</td>\n",
       "      <td>1097</td>\n",
       "      <td>4.0</td>\n",
       "      <td>1077</td>\n",
       "    </tr>\n",
       "    <tr>\n",
       "      <th>28</th>\n",
       "      <td>0</td>\n",
       "      <td>1136</td>\n",
       "      <td>3.5</td>\n",
       "      <td>1115</td>\n",
       "    </tr>\n",
       "    <tr>\n",
       "      <th>29</th>\n",
       "      <td>0</td>\n",
       "      <td>1193</td>\n",
       "      <td>3.5</td>\n",
       "      <td>1171</td>\n",
       "    </tr>\n",
       "    <tr>\n",
       "      <th>...</th>\n",
       "      <td>...</td>\n",
       "      <td>...</td>\n",
       "      <td>...</td>\n",
       "      <td>...</td>\n",
       "    </tr>\n",
       "    <tr>\n",
       "      <th>20000233</th>\n",
       "      <td>138492</td>\n",
       "      <td>50872</td>\n",
       "      <td>3.5</td>\n",
       "      <td>11671</td>\n",
       "    </tr>\n",
       "    <tr>\n",
       "      <th>20000234</th>\n",
       "      <td>138492</td>\n",
       "      <td>51086</td>\n",
       "      <td>3.5</td>\n",
       "      <td>11700</td>\n",
       "    </tr>\n",
       "    <tr>\n",
       "      <th>20000235</th>\n",
       "      <td>138492</td>\n",
       "      <td>51662</td>\n",
       "      <td>4.5</td>\n",
       "      <td>11764</td>\n",
       "    </tr>\n",
       "    <tr>\n",
       "      <th>20000236</th>\n",
       "      <td>138492</td>\n",
       "      <td>51884</td>\n",
       "      <td>4.5</td>\n",
       "      <td>11781</td>\n",
       "    </tr>\n",
       "    <tr>\n",
       "      <th>20000237</th>\n",
       "      <td>138492</td>\n",
       "      <td>52579</td>\n",
       "      <td>4.0</td>\n",
       "      <td>11861</td>\n",
       "    </tr>\n",
       "    <tr>\n",
       "      <th>20000238</th>\n",
       "      <td>138492</td>\n",
       "      <td>52975</td>\n",
       "      <td>4.0</td>\n",
       "      <td>11915</td>\n",
       "    </tr>\n",
       "    <tr>\n",
       "      <th>20000239</th>\n",
       "      <td>138492</td>\n",
       "      <td>53123</td>\n",
       "      <td>4.0</td>\n",
       "      <td>11929</td>\n",
       "    </tr>\n",
       "    <tr>\n",
       "      <th>20000240</th>\n",
       "      <td>138492</td>\n",
       "      <td>53125</td>\n",
       "      <td>3.0</td>\n",
       "      <td>11930</td>\n",
       "    </tr>\n",
       "    <tr>\n",
       "      <th>20000241</th>\n",
       "      <td>138492</td>\n",
       "      <td>53322</td>\n",
       "      <td>4.0</td>\n",
       "      <td>11949</td>\n",
       "    </tr>\n",
       "    <tr>\n",
       "      <th>20000242</th>\n",
       "      <td>138492</td>\n",
       "      <td>53464</td>\n",
       "      <td>4.0</td>\n",
       "      <td>11968</td>\n",
       "    </tr>\n",
       "    <tr>\n",
       "      <th>20000243</th>\n",
       "      <td>138492</td>\n",
       "      <td>53996</td>\n",
       "      <td>4.5</td>\n",
       "      <td>12029</td>\n",
       "    </tr>\n",
       "    <tr>\n",
       "      <th>20000244</th>\n",
       "      <td>138492</td>\n",
       "      <td>55269</td>\n",
       "      <td>5.0</td>\n",
       "      <td>12196</td>\n",
       "    </tr>\n",
       "    <tr>\n",
       "      <th>20000245</th>\n",
       "      <td>138492</td>\n",
       "      <td>55814</td>\n",
       "      <td>5.0</td>\n",
       "      <td>12272</td>\n",
       "    </tr>\n",
       "    <tr>\n",
       "      <th>20000246</th>\n",
       "      <td>138492</td>\n",
       "      <td>56757</td>\n",
       "      <td>3.0</td>\n",
       "      <td>12378</td>\n",
       "    </tr>\n",
       "    <tr>\n",
       "      <th>20000247</th>\n",
       "      <td>138492</td>\n",
       "      <td>56801</td>\n",
       "      <td>3.0</td>\n",
       "      <td>12385</td>\n",
       "    </tr>\n",
       "    <tr>\n",
       "      <th>20000248</th>\n",
       "      <td>138492</td>\n",
       "      <td>58879</td>\n",
       "      <td>4.5</td>\n",
       "      <td>12622</td>\n",
       "    </tr>\n",
       "    <tr>\n",
       "      <th>20000249</th>\n",
       "      <td>138492</td>\n",
       "      <td>59315</td>\n",
       "      <td>4.0</td>\n",
       "      <td>12688</td>\n",
       "    </tr>\n",
       "    <tr>\n",
       "      <th>20000250</th>\n",
       "      <td>138492</td>\n",
       "      <td>59725</td>\n",
       "      <td>3.0</td>\n",
       "      <td>12741</td>\n",
       "    </tr>\n",
       "    <tr>\n",
       "      <th>20000251</th>\n",
       "      <td>138492</td>\n",
       "      <td>59784</td>\n",
       "      <td>5.0</td>\n",
       "      <td>12748</td>\n",
       "    </tr>\n",
       "    <tr>\n",
       "      <th>20000252</th>\n",
       "      <td>138492</td>\n",
       "      <td>60069</td>\n",
       "      <td>4.0</td>\n",
       "      <td>12803</td>\n",
       "    </tr>\n",
       "    <tr>\n",
       "      <th>20000253</th>\n",
       "      <td>138492</td>\n",
       "      <td>60816</td>\n",
       "      <td>4.5</td>\n",
       "      <td>12932</td>\n",
       "    </tr>\n",
       "    <tr>\n",
       "      <th>20000254</th>\n",
       "      <td>138492</td>\n",
       "      <td>61160</td>\n",
       "      <td>4.0</td>\n",
       "      <td>12983</td>\n",
       "    </tr>\n",
       "    <tr>\n",
       "      <th>20000255</th>\n",
       "      <td>138492</td>\n",
       "      <td>65682</td>\n",
       "      <td>4.5</td>\n",
       "      <td>13413</td>\n",
       "    </tr>\n",
       "    <tr>\n",
       "      <th>20000256</th>\n",
       "      <td>138492</td>\n",
       "      <td>66762</td>\n",
       "      <td>4.5</td>\n",
       "      <td>13552</td>\n",
       "    </tr>\n",
       "    <tr>\n",
       "      <th>20000257</th>\n",
       "      <td>138492</td>\n",
       "      <td>68319</td>\n",
       "      <td>4.5</td>\n",
       "      <td>13731</td>\n",
       "    </tr>\n",
       "    <tr>\n",
       "      <th>20000258</th>\n",
       "      <td>138492</td>\n",
       "      <td>68954</td>\n",
       "      <td>4.5</td>\n",
       "      <td>13821</td>\n",
       "    </tr>\n",
       "    <tr>\n",
       "      <th>20000259</th>\n",
       "      <td>138492</td>\n",
       "      <td>69526</td>\n",
       "      <td>4.5</td>\n",
       "      <td>13929</td>\n",
       "    </tr>\n",
       "    <tr>\n",
       "      <th>20000260</th>\n",
       "      <td>138492</td>\n",
       "      <td>69644</td>\n",
       "      <td>3.0</td>\n",
       "      <td>13942</td>\n",
       "    </tr>\n",
       "    <tr>\n",
       "      <th>20000261</th>\n",
       "      <td>138492</td>\n",
       "      <td>70286</td>\n",
       "      <td>5.0</td>\n",
       "      <td>14060</td>\n",
       "    </tr>\n",
       "    <tr>\n",
       "      <th>20000262</th>\n",
       "      <td>138492</td>\n",
       "      <td>71619</td>\n",
       "      <td>2.5</td>\n",
       "      <td>14344</td>\n",
       "    </tr>\n",
       "  </tbody>\n",
       "</table>\n",
       "<p>20000263 rows × 4 columns</p>\n",
       "</div>"
      ],
      "text/plain": [
       "          userId  movieId  rating  movie_idx\n",
       "0              0        2     3.5          2\n",
       "1              0       29     3.5         29\n",
       "2              0       32     3.5         32\n",
       "3              0       47     3.5         47\n",
       "4              0       50     3.5         50\n",
       "5              0      112     3.5        112\n",
       "6              0      151     4.0        151\n",
       "7              0      223     4.0        222\n",
       "8              0      253     4.0        252\n",
       "9              0      260     4.0        259\n",
       "10             0      293     4.0        292\n",
       "11             0      296     4.0        295\n",
       "12             0      318     4.0        317\n",
       "13             0      337     3.5        335\n",
       "14             0      367     3.5        365\n",
       "15             0      541     4.0        539\n",
       "16             0      589     3.5        585\n",
       "17             0      593     3.5        589\n",
       "18             0      653     3.0        647\n",
       "19             0      919     3.5        904\n",
       "20             0      924     3.5        909\n",
       "21             0     1009     3.5        992\n",
       "22             0     1036     4.0       1019\n",
       "23             0     1079     4.0       1059\n",
       "24             0     1080     3.5       1060\n",
       "25             0     1089     3.5       1069\n",
       "26             0     1090     4.0       1070\n",
       "27             0     1097     4.0       1077\n",
       "28             0     1136     3.5       1115\n",
       "29             0     1193     3.5       1171\n",
       "...          ...      ...     ...        ...\n",
       "20000233  138492    50872     3.5      11671\n",
       "20000234  138492    51086     3.5      11700\n",
       "20000235  138492    51662     4.5      11764\n",
       "20000236  138492    51884     4.5      11781\n",
       "20000237  138492    52579     4.0      11861\n",
       "20000238  138492    52975     4.0      11915\n",
       "20000239  138492    53123     4.0      11929\n",
       "20000240  138492    53125     3.0      11930\n",
       "20000241  138492    53322     4.0      11949\n",
       "20000242  138492    53464     4.0      11968\n",
       "20000243  138492    53996     4.5      12029\n",
       "20000244  138492    55269     5.0      12196\n",
       "20000245  138492    55814     5.0      12272\n",
       "20000246  138492    56757     3.0      12378\n",
       "20000247  138492    56801     3.0      12385\n",
       "20000248  138492    58879     4.5      12622\n",
       "20000249  138492    59315     4.0      12688\n",
       "20000250  138492    59725     3.0      12741\n",
       "20000251  138492    59784     5.0      12748\n",
       "20000252  138492    60069     4.0      12803\n",
       "20000253  138492    60816     4.5      12932\n",
       "20000254  138492    61160     4.0      12983\n",
       "20000255  138492    65682     4.5      13413\n",
       "20000256  138492    66762     4.5      13552\n",
       "20000257  138492    68319     4.5      13731\n",
       "20000258  138492    68954     4.5      13821\n",
       "20000259  138492    69526     4.5      13929\n",
       "20000260  138492    69644     3.0      13942\n",
       "20000261  138492    70286     5.0      14060\n",
       "20000262  138492    71619     2.5      14344\n",
       "\n",
       "[20000263 rows x 4 columns]"
      ]
     },
     "execution_count": 27,
     "metadata": {},
     "output_type": "execute_result"
    }
   ],
   "source": [
    "df.drop(columns=\"timestamp\")"
   ]
  },
  {
   "cell_type": "code",
   "execution_count": null,
   "metadata": {},
   "outputs": [],
   "source": [
    "df.head()"
   ]
  },
  {
   "cell_type": "markdown",
   "metadata": {},
   "source": [
    "Tras realizar todas las transformaciones guardamos los datos en un nuevo archivo para no perder tiempo en realizar los cambios en un futuro:"
   ]
  },
  {
   "cell_type": "markdown",
   "metadata": {},
   "source": [
    "#### To do. Guardar los datos en un archivo csv llamado `preprocessed_rating.csv`:"
   ]
  },
  {
   "cell_type": "markdown",
   "metadata": {},
   "source": [
    "Hasta aquí nuestro primer preprocesamiento de datos."
   ]
  },
  {
   "cell_type": "markdown",
   "metadata": {},
   "source": [
    "Este método no es escalable. Si se tienen conocimientos de Spark la implementación se podría hacer de manera paralelizada pero como dichos conocimientos no son requisitos para este curso lo que haremos será reducir nuestros datos seleccionando un subconjuntos de usuarios y películas. Como discutimos previamente en la teoría la idea más interesante es elegir las películas que más veces han sido votadas y los usuarios que más veces han votado."
   ]
  },
  {
   "cell_type": "markdown",
   "metadata": {},
   "source": [
    "Como ahora nuestros índices son secuenciales podemos afirmar que:"
   ]
  },
  {
   "cell_type": "markdown",
   "metadata": {},
   "source": [
    "#### To do. Calcular el número de películas y el número de usuarios:"
   ]
  },
  {
   "cell_type": "markdown",
   "metadata": {},
   "source": [
    "La función `Counter` del módulo `collections` nos permite hacer un conteo eficiente de valores agrupados devolviéndonos un objeto counter (similar a un diccionario con clave el índice y valor el número de apariciones). \n",
    "\n",
    "__Nota.__ El módulo `collections` viene automáticamente instalado."
   ]
  },
  {
   "cell_type": "code",
   "execution_count": null,
   "metadata": {},
   "outputs": [],
   "source": [
    "from collections import Counter"
   ]
  },
  {
   "cell_type": "markdown",
   "metadata": {},
   "source": [
    "Ejemplo:"
   ]
  },
  {
   "cell_type": "code",
   "execution_count": null,
   "metadata": {},
   "outputs": [],
   "source": [
    "Counter(df.movie_idx)[10] #veces que la película 10 ha sido votada"
   ]
  },
  {
   "cell_type": "markdown",
   "metadata": {},
   "source": [
    "#### To do. Contamos pues los votos emitidos por cada usuario y los votos sobre cada película respectivamente:"
   ]
  },
  {
   "cell_type": "markdown",
   "metadata": {},
   "source": [
    "Ahora fijamos el tamaño de muestra que vamos a elegir. En un proyecto real estos valores no son dados ni elegidos al azar. Se realizan diferentes pruebas y se comparan los resultados. En esta primera aproximación simplemente elegiremos valores que permitan un fácil manipulación de los datos:"
   ]
  },
  {
   "cell_type": "code",
   "execution_count": null,
   "metadata": {},
   "outputs": [],
   "source": [
    "m =  # número de películas elegidas\n",
    "n =  # número de usuarios elegidos"
   ]
  },
  {
   "cell_type": "markdown",
   "metadata": {},
   "source": [
    "`Counter` incluye el método `most_common()` que nos permite extraer los índices asociados a los x valores más frecuentes:"
   ]
  },
  {
   "cell_type": "code",
   "execution_count": null,
   "metadata": {},
   "outputs": [],
   "source": [
    "user_ids = [u for u, c in user_ids_count.most_common(n)] # para cada índice y valor en el counter extraigo el índice\n",
    "movie_ids = [m for m, c in movie_ids_count.most_common(m)]"
   ]
  },
  {
   "cell_type": "markdown",
   "metadata": {},
   "source": [
    "Una vez elegidos los índices de las películas y usuarios con los que trabajaremos extraemos todos los votos de dichos usuarios sobre dichas películas de todos los datos iniciales, rechazando todas aquellas valoraciones realizadas por usuarios no seleccionados o sobre películas no seleccionadas:"
   ]
  },
  {
   "cell_type": "markdown",
   "metadata": {},
   "source": [
    "#### To do. Extraer los votos de dichos usuarios sobre dichas películas rechanzando valoraciones de usuarios no seleccionadas o sobre películas no seleccionadas:"
   ]
  },
  {
   "cell_type": "markdown",
   "metadata": {},
   "source": [
    "__Nota.__ El método `isin()` simplemente indica si un elemento está dentro de otro devolviendo un booleano."
   ]
  },
  {
   "cell_type": "markdown",
   "metadata": {},
   "source": [
    "__PROBLEMA.__ Ahora que hemos extraído ciertos usuarios/película y rechazado otros los índices vuelven a no ser secuenciales. Aplicamos de nuevo el mismo proceso\n",
    "\n",
    "__Nota.__ Obviamente ahora nos damos cuenta de que realizar esto al principio era innecesario pero este ejemplo es didáctico y busca en parte reproducir las vicisitudes al trabajar con datos."
   ]
  },
  {
   "cell_type": "markdown",
   "metadata": {},
   "source": [
    "Creamos los diccionarios:"
   ]
  },
  {
   "cell_type": "code",
   "execution_count": null,
   "metadata": {},
   "outputs": [],
   "source": [
    "nuevo_user_id_map = {}\n",
    "i = 0\n",
    "for antiguo in user_ids:\n",
    "    nuevo_user_id_map[antiguo] = i\n",
    "    i += 1\n",
    "    \n",
    "nuevo_movie_id_map = {}\n",
    "j = 0\n",
    "for antiguo in movie_ids:\n",
    "    nuevo_movie_id_map[antiguo] = j\n",
    "    j += 1"
   ]
  },
  {
   "cell_type": "markdown",
   "metadata": {},
   "source": [
    "Aplicamos la transformación a las columnas adecuadas:"
   ]
  },
  {
   "cell_type": "code",
   "execution_count": null,
   "metadata": {},
   "outputs": [],
   "source": [
    "df_small.loc[:, 'userId'] = df_small.apply(lambda row: nuevo_user_id_map[row.userId], axis=1)\n",
    "df_small.loc[:, 'movie_idx'] = df_small.apply(lambda row: nuevo_movie_id_map[row.movie_idx], axis=1)"
   ]
  },
  {
   "cell_type": "markdown",
   "metadata": {},
   "source": [
    "__Nota.__ De nuevo esto llevará un tiempo."
   ]
  },
  {
   "cell_type": "markdown",
   "metadata": {},
   "source": [
    "Una vez disponemos de los datos adecuados comprobamos que la tabla se ha guardado de forma correcta y de nuevo almacenamos los datos en un csv:"
   ]
  },
  {
   "cell_type": "code",
   "execution_count": null,
   "metadata": {},
   "outputs": [],
   "source": [
    "df_small.head()"
   ]
  },
  {
   "cell_type": "code",
   "execution_count": null,
   "metadata": {},
   "outputs": [],
   "source": [
    "df_small.to_csv('./data/reduced_rating.csv', index=False)"
   ]
  },
  {
   "cell_type": "markdown",
   "metadata": {},
   "source": [
    "Estos son los datos finales con los que trabajaremos, sin embargo, no es su estructura óptima. Pandas es una estructura muy eficiente pero pesada en ciertos sentidos. En este caso nos interesa poder almacenar los datos en __diccionarios__.\n",
    "\n",
    "Iterar sobre la matriz tendría coste O(NM) mientras que iterar sobre diccionarios tiene un coste O(|$\\Omega$|) con |$\\Omega$| el número total de valoraciones. "
   ]
  },
  {
   "cell_type": "markdown",
   "metadata": {},
   "source": [
    "Procedemos pues a almacenar la información en diccionarios:"
   ]
  },
  {
   "cell_type": "code",
   "execution_count": null,
   "metadata": {},
   "outputs": [],
   "source": [
    "M = m #los valores son los elegidos manualmente antes\n",
    "N = n"
   ]
  },
  {
   "cell_type": "markdown",
   "metadata": {},
   "source": [
    "#### To do. Dividimos los datos en entrenamiento reducidos (80%) y test (20%):"
   ]
  },
  {
   "cell_type": "code",
   "execution_count": null,
   "metadata": {},
   "outputs": [],
   "source": [
    "from sklearn.utils import shuffle"
   ]
  },
  {
   "cell_type": "markdown",
   "metadata": {},
   "source": [
    "Vamos a construir tres diccionarios:\n",
    "\n",
    "* `usuario_pelicula`: indica qué usuarios han valorado qué películas.\n",
    "* `pelicula_usuario`: indica qué películas han sido valoradas por qué usuarios.\n",
    "* `usuariopeli_rating`: indica dada una tupla de usuario y película como clave cual ha sido su valoración."
   ]
  },
  {
   "cell_type": "markdown",
   "metadata": {},
   "source": [
    "Inicializamos los diccionarios vacíos:"
   ]
  },
  {
   "cell_type": "code",
   "execution_count": null,
   "metadata": {},
   "outputs": [],
   "source": [
    "usuario_pelicula = {}\n",
    "pelicula_usuario = {}\n",
    "usuariopeli_rating = {}"
   ]
  },
  {
   "cell_type": "markdown",
   "metadata": {},
   "source": [
    "Vamos a definir una función para construir nuestros diccionarios de entrenamiento:"
   ]
  },
  {
   "cell_type": "code",
   "execution_count": null,
   "metadata": {},
   "outputs": [],
   "source": [
    "count = 0\n",
    "def crear_usuario_pelicula_y_pelicula_usuario(row):\n",
    "    global count\n",
    "    count += 1\n",
    "    if count % 100000 == 0:\n",
    "        print(\"Procesado: %.3f\" % (float(count)/cutoff)) #pequeño truco para ver a que velocidad se procesan los datos\n",
    "\n",
    "    i = int(row.userId) # i es el usuario\n",
    "    j = int(row.movie_idx) #j es la película\n",
    "    \n",
    "    #Diccionario usuario_pelicula\n",
    "    if i not in usuario_pelicula:\n",
    "        usuario_pelicula[i] = [j] # si el usuario i no está en el diccionario lo añadimos con valor la película j\n",
    "    else:\n",
    "        usuario_pelicula[i].append(j) # si i ya está en el diccionario le añadimos al valor la nueva película\n",
    "        \n",
    "    # Diccionario pelicula_usuario\n",
    "    if j not in pelicula_usuario:\n",
    "        pelicula_usuario[j] = [i] # si la peli j no está en el diccionario la añadimos con valor el usuario i\n",
    "    else:\n",
    "        pelicula_usuario[j].append(i) # si j ya está en el diccionario el añadimos al valor el nuevo ususario\n",
    "    \n",
    "    # Diccionario usuariopeli_rating\n",
    "    usuariopeli_rating[(i,j)] = row.rating # añado la tupla (usuario, pelicula) como clave y la valoración como valor"
   ]
  },
  {
   "cell_type": "markdown",
   "metadata": {},
   "source": [
    "#### To do. Aplicar la función a los datos de entrenamiento:"
   ]
  },
  {
   "cell_type": "markdown",
   "metadata": {},
   "source": [
    "Para validación solo necesitaremos un diccionario de `usuariopeli_rating` así que definimos una función que construya únicamente dicho diccionario:"
   ]
  },
  {
   "cell_type": "markdown",
   "metadata": {},
   "source": [
    "#### To do. Definir una función que cree solo el diccionario `usuariopeli_rating_test`:"
   ]
  },
  {
   "cell_type": "markdown",
   "metadata": {},
   "source": [
    "#### To do. Aplicar la función:"
   ]
  },
  {
   "cell_type": "markdown",
   "metadata": {},
   "source": [
    "Ya hemos construido nuestros cuatro diccionarios. Finalmente los almacenamos en sendos archivos .json:"
   ]
  },
  {
   "cell_type": "markdown",
   "metadata": {},
   "source": [
    "__Nota.__ `pickle` puede guardar cualquier tipo de objeto de Python.\n",
    "Técnicamente son archivos binarios y no json porque la clave es un string y en los json es un entero. `pickle` es parte de Python y no requiere instalación:"
   ]
  },
  {
   "cell_type": "code",
   "execution_count": null,
   "metadata": {},
   "outputs": [],
   "source": [
    "import pickle\n",
    "with open('./data/usuario_pelicula.json', 'wb') as f:\n",
    "    pickle.dump(usuario_pelicula, f)\n",
    "\n",
    "with open('./data/pelicula_usuario.json', 'wb') as f:\n",
    "    pickle.dump(pelicula_usuario, f)\n",
    "\n",
    "with open('./data/usuariopeli_rating.json', 'wb') as f:\n",
    "    pickle.dump(usuariopeli_rating, f)\n",
    "\n",
    "with open('./data/usuariopeli_rating_test.json', 'wb') as f:\n",
    "    pickle.dump(usuariopeli_rating_test, f)"
   ]
  },
  {
   "cell_type": "markdown",
   "metadata": {},
   "source": [
    "Hasta aquí las labores de preprocesado realizadas. En resumen lo que hemos hecho es:\n",
    "\n",
    "* Cargar los datos.\n",
    "* Tomar una muestra de las películas más votadas y los usuarios más activos.\n",
    "* Construir cuatro diccionarios, tres para entrenamiento y uno para test."
   ]
  }
 ],
 "metadata": {
  "kernelspec": {
   "display_name": "Python 3",
   "language": "python",
   "name": "python3"
  },
  "language_info": {
   "codemirror_mode": {
    "name": "ipython",
    "version": 3
   },
   "file_extension": ".py",
   "mimetype": "text/x-python",
   "name": "python",
   "nbconvert_exporter": "python",
   "pygments_lexer": "ipython3",
   "version": "3.7.3"
  }
 },
 "nbformat": 4,
 "nbformat_minor": 4
}
