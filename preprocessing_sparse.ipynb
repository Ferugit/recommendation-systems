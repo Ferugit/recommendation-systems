{
 "cells": [
  {
   "cell_type": "markdown",
   "metadata": {},
   "source": [
    "# Preprocesamiento Sparse\n",
    "\n",
    "**Autor**: Arturo Sánchez Palacio\n",
    "\n",
    "Basado en: https://github.com/lazyprogrammer\n",
    "\n",
    "**Fecha de última revisión: 18/I/2020**"
   ]
  },
  {
   "cell_type": "markdown",
   "metadata": {},
   "source": [
    "Para la utilización de las matrices Sparse (parte del módulo Numpy) en los Autoencoders se requiere un preprocesamiento especial. Procedemos a exponerlo:"
   ]
  },
  {
   "cell_type": "markdown",
   "metadata": {},
   "source": [
    "Como siempre comenzamos instalando los módulos que necesitamos e importándolos:"
   ]
  },
  {
   "cell_type": "code",
   "execution_count": 1,
   "metadata": {},
   "outputs": [],
   "source": [
    "import pickle\n",
    "import numpy as np\n",
    "import pandas as pd\n",
    "import matplotlib.pyplot as plt\n",
    "from sklearn.utils import shuffle"
   ]
  },
  {
   "cell_type": "markdown",
   "metadata": {},
   "source": [
    "Cargamos los datos:"
   ]
  },
  {
   "cell_type": "code",
   "execution_count": 2,
   "metadata": {},
   "outputs": [],
   "source": [
    "df = pd.read_csv('./data/preprocessed_rating.csv')"
   ]
  },
  {
   "cell_type": "markdown",
   "metadata": {},
   "source": [
    "Calculamos el número total de usuarios y películas:"
   ]
  },
  {
   "cell_type": "code",
   "execution_count": 3,
   "metadata": {},
   "outputs": [],
   "source": [
    "N = df.userId.max() + 1\n",
    "M = df.movie_idx.max() + 1"
   ]
  },
  {
   "cell_type": "markdown",
   "metadata": {},
   "source": [
    "Como es habitual en los procesos de Machine Learning dividimos en entrenamiento y test. En este caso fijamos el tamaño de entrenamiento al 80%:"
   ]
  },
  {
   "cell_type": "code",
   "execution_count": 4,
   "metadata": {},
   "outputs": [],
   "source": [
    "df = shuffle(df)\n",
    "umbral = int(0.8*len(df))\n",
    "df_train = df.iloc[:umbral]\n",
    "df_test = df.iloc[umbral:]"
   ]
  },
  {
   "cell_type": "markdown",
   "metadata": {},
   "source": [
    "Iniciamos una matriz Sparse de N filas y M columnas:"
   ]
  },
  {
   "cell_type": "code",
   "execution_count": 5,
   "metadata": {},
   "outputs": [],
   "source": [
    "from scipy.sparse import lil_matrix\n",
    "A = lil_matrix((N, M))"
   ]
  },
  {
   "cell_type": "code",
   "execution_count": 6,
   "metadata": {},
   "outputs": [
    {
     "data": {
      "text/plain": [
       "<138493x26744 sparse matrix of type '<class 'numpy.float64'>'\n",
       "\twith 0 stored elements in LInked List format>"
      ]
     },
     "execution_count": 6,
     "metadata": {},
     "output_type": "execute_result"
    }
   ],
   "source": [
    "A"
   ]
  },
  {
   "cell_type": "markdown",
   "metadata": {},
   "source": [
    "Comenzamos actualizando el conjunto de entrenamiento:"
   ]
  },
  {
   "cell_type": "markdown",
   "metadata": {},
   "source": [
    "#### To do. Definimos una función ` update_train` para actualizar el conjunto de entrenamiento. Básicamente toma una fila del dataframe y coloca el rating en el espacio usuario, película de la matriz. \n",
    "\n",
    "(__Ejemplo:__ Usuario 1 película: 10 rating en la fila 1 columna 10)"
   ]
  },
  {
   "cell_type": "code",
   "execution_count": 7,
   "metadata": {},
   "outputs": [
    {
     "data": {
      "text/html": [
       "<div>\n",
       "<style scoped>\n",
       "    .dataframe tbody tr th:only-of-type {\n",
       "        vertical-align: middle;\n",
       "    }\n",
       "\n",
       "    .dataframe tbody tr th {\n",
       "        vertical-align: top;\n",
       "    }\n",
       "\n",
       "    .dataframe thead th {\n",
       "        text-align: right;\n",
       "    }\n",
       "</style>\n",
       "<table border=\"1\" class=\"dataframe\">\n",
       "  <thead>\n",
       "    <tr style=\"text-align: right;\">\n",
       "      <th></th>\n",
       "      <th>userId</th>\n",
       "      <th>movieId</th>\n",
       "      <th>rating</th>\n",
       "      <th>movie_idx</th>\n",
       "    </tr>\n",
       "  </thead>\n",
       "  <tbody>\n",
       "    <tr>\n",
       "      <th>17812199</th>\n",
       "      <td>123155</td>\n",
       "      <td>5445</td>\n",
       "      <td>4.0</td>\n",
       "      <td>5351</td>\n",
       "    </tr>\n",
       "    <tr>\n",
       "      <th>16856283</th>\n",
       "      <td>116555</td>\n",
       "      <td>6764</td>\n",
       "      <td>1.5</td>\n",
       "      <td>6657</td>\n",
       "    </tr>\n",
       "    <tr>\n",
       "      <th>5872498</th>\n",
       "      <td>40426</td>\n",
       "      <td>2710</td>\n",
       "      <td>1.5</td>\n",
       "      <td>2626</td>\n",
       "    </tr>\n",
       "    <tr>\n",
       "      <th>936523</th>\n",
       "      <td>6281</td>\n",
       "      <td>41997</td>\n",
       "      <td>5.0</td>\n",
       "      <td>10745</td>\n",
       "    </tr>\n",
       "    <tr>\n",
       "      <th>8045358</th>\n",
       "      <td>55418</td>\n",
       "      <td>6942</td>\n",
       "      <td>4.5</td>\n",
       "      <td>6833</td>\n",
       "    </tr>\n",
       "  </tbody>\n",
       "</table>\n",
       "</div>"
      ],
      "text/plain": [
       "          userId  movieId  rating  movie_idx\n",
       "17812199  123155     5445     4.0       5351\n",
       "16856283  116555     6764     1.5       6657\n",
       "5872498    40426     2710     1.5       2626\n",
       "936523      6281    41997     5.0      10745\n",
       "8045358    55418     6942     4.5       6833"
      ]
     },
     "execution_count": 7,
     "metadata": {},
     "output_type": "execute_result"
    }
   ],
   "source": [
    "df_train.head()"
   ]
  },
  {
   "cell_type": "code",
   "execution_count": 8,
   "metadata": {},
   "outputs": [],
   "source": [
    "#def update_train(df):\n",
    "#    for index, row in df.iterrows():\n",
    "#       A[int(row[\"userId\"]), int(row[\"movie_idx\"])] = row[\"rating\"]\n",
    "\n",
    "count = 0\n",
    "def update_train(fila):\n",
    "    global count\n",
    "    count += 1\n",
    "    if count % 100000 == 0:\n",
    "        print(\"Procesado: %.3f\" % (float(count)/umbral))\n",
    "    i = int(fila.userId)\n",
    "    j = int(fila.movie_idx)\n",
    "    A[i, j] = fila.rating\n",
    "        \n",
    "        \n",
    "    "
   ]
  },
  {
   "cell_type": "markdown",
   "metadata": {},
   "source": [
    "#### To do. Aplicar la función al conjunto de entrenamiento:"
   ]
  },
  {
   "cell_type": "code",
   "execution_count": 9,
   "metadata": {},
   "outputs": [
    {
     "name": "stdout",
     "output_type": "stream",
     "text": [
      "Procesado: 0.006\n",
      "Procesado: 0.012\n",
      "Procesado: 0.019\n",
      "Procesado: 0.025\n",
      "Procesado: 0.031\n",
      "Procesado: 0.037\n",
      "Procesado: 0.044\n",
      "Procesado: 0.050\n",
      "Procesado: 0.056\n",
      "Procesado: 0.062\n",
      "Procesado: 0.069\n",
      "Procesado: 0.075\n",
      "Procesado: 0.081\n",
      "Procesado: 0.087\n",
      "Procesado: 0.094\n",
      "Procesado: 0.100\n",
      "Procesado: 0.106\n",
      "Procesado: 0.112\n",
      "Procesado: 0.119\n",
      "Procesado: 0.125\n",
      "Procesado: 0.131\n",
      "Procesado: 0.137\n",
      "Procesado: 0.144\n",
      "Procesado: 0.150\n",
      "Procesado: 0.156\n",
      "Procesado: 0.162\n",
      "Procesado: 0.169\n",
      "Procesado: 0.175\n",
      "Procesado: 0.181\n",
      "Procesado: 0.187\n",
      "Procesado: 0.194\n",
      "Procesado: 0.200\n",
      "Procesado: 0.206\n",
      "Procesado: 0.212\n",
      "Procesado: 0.219\n",
      "Procesado: 0.225\n",
      "Procesado: 0.231\n",
      "Procesado: 0.237\n",
      "Procesado: 0.244\n",
      "Procesado: 0.250\n",
      "Procesado: 0.256\n",
      "Procesado: 0.262\n",
      "Procesado: 0.269\n",
      "Procesado: 0.275\n",
      "Procesado: 0.281\n",
      "Procesado: 0.287\n",
      "Procesado: 0.294\n",
      "Procesado: 0.300\n",
      "Procesado: 0.306\n",
      "Procesado: 0.312\n",
      "Procesado: 0.319\n",
      "Procesado: 0.325\n",
      "Procesado: 0.331\n",
      "Procesado: 0.337\n",
      "Procesado: 0.344\n",
      "Procesado: 0.350\n",
      "Procesado: 0.356\n",
      "Procesado: 0.362\n",
      "Procesado: 0.369\n",
      "Procesado: 0.375\n",
      "Procesado: 0.381\n",
      "Procesado: 0.387\n",
      "Procesado: 0.394\n",
      "Procesado: 0.400\n",
      "Procesado: 0.406\n",
      "Procesado: 0.412\n",
      "Procesado: 0.419\n",
      "Procesado: 0.425\n",
      "Procesado: 0.431\n",
      "Procesado: 0.437\n",
      "Procesado: 0.444\n",
      "Procesado: 0.450\n",
      "Procesado: 0.456\n",
      "Procesado: 0.462\n",
      "Procesado: 0.469\n",
      "Procesado: 0.475\n",
      "Procesado: 0.481\n",
      "Procesado: 0.487\n",
      "Procesado: 0.494\n",
      "Procesado: 0.500\n",
      "Procesado: 0.506\n",
      "Procesado: 0.512\n",
      "Procesado: 0.519\n",
      "Procesado: 0.525\n",
      "Procesado: 0.531\n",
      "Procesado: 0.537\n",
      "Procesado: 0.544\n",
      "Procesado: 0.550\n",
      "Procesado: 0.556\n",
      "Procesado: 0.562\n",
      "Procesado: 0.569\n",
      "Procesado: 0.575\n",
      "Procesado: 0.581\n",
      "Procesado: 0.587\n",
      "Procesado: 0.594\n",
      "Procesado: 0.600\n",
      "Procesado: 0.606\n",
      "Procesado: 0.612\n",
      "Procesado: 0.619\n",
      "Procesado: 0.625\n",
      "Procesado: 0.631\n",
      "Procesado: 0.637\n",
      "Procesado: 0.644\n",
      "Procesado: 0.650\n",
      "Procesado: 0.656\n",
      "Procesado: 0.662\n",
      "Procesado: 0.669\n",
      "Procesado: 0.675\n",
      "Procesado: 0.681\n",
      "Procesado: 0.687\n",
      "Procesado: 0.694\n",
      "Procesado: 0.700\n",
      "Procesado: 0.706\n",
      "Procesado: 0.712\n",
      "Procesado: 0.719\n",
      "Procesado: 0.725\n",
      "Procesado: 0.731\n",
      "Procesado: 0.737\n",
      "Procesado: 0.744\n",
      "Procesado: 0.750\n",
      "Procesado: 0.756\n",
      "Procesado: 0.762\n",
      "Procesado: 0.769\n",
      "Procesado: 0.775\n",
      "Procesado: 0.781\n",
      "Procesado: 0.787\n",
      "Procesado: 0.794\n",
      "Procesado: 0.800\n",
      "Procesado: 0.806\n",
      "Procesado: 0.812\n",
      "Procesado: 0.819\n",
      "Procesado: 0.825\n",
      "Procesado: 0.831\n",
      "Procesado: 0.837\n",
      "Procesado: 0.844\n",
      "Procesado: 0.850\n",
      "Procesado: 0.856\n",
      "Procesado: 0.862\n",
      "Procesado: 0.869\n",
      "Procesado: 0.875\n",
      "Procesado: 0.881\n",
      "Procesado: 0.887\n",
      "Procesado: 0.894\n",
      "Procesado: 0.900\n",
      "Procesado: 0.906\n",
      "Procesado: 0.912\n",
      "Procesado: 0.919\n",
      "Procesado: 0.925\n",
      "Procesado: 0.931\n",
      "Procesado: 0.937\n",
      "Procesado: 0.944\n",
      "Procesado: 0.950\n",
      "Procesado: 0.956\n",
      "Procesado: 0.962\n",
      "Procesado: 0.969\n",
      "Procesado: 0.975\n",
      "Procesado: 0.981\n",
      "Procesado: 0.987\n",
      "Procesado: 0.994\n",
      "Procesado: 1.000\n"
     ]
    },
    {
     "data": {
      "text/plain": [
       "17812199    None\n",
       "16856283    None\n",
       "5872498     None\n",
       "936523      None\n",
       "8045358     None\n",
       "14854626    None\n",
       "13167421    None\n",
       "1483599     None\n",
       "18120847    None\n",
       "17395408    None\n",
       "1116269     None\n",
       "15175710    None\n",
       "16639825    None\n",
       "11663732    None\n",
       "1177483     None\n",
       "8849612     None\n",
       "433813      None\n",
       "12304733    None\n",
       "12422705    None\n",
       "10627974    None\n",
       "3945548     None\n",
       "14395113    None\n",
       "19479079    None\n",
       "9874062     None\n",
       "13207365    None\n",
       "18020258    None\n",
       "16403665    None\n",
       "16599660    None\n",
       "18279317    None\n",
       "3182734     None\n",
       "            ... \n",
       "13127206    None\n",
       "15148318    None\n",
       "6661191     None\n",
       "5948200     None\n",
       "7330605     None\n",
       "10792586    None\n",
       "5188003     None\n",
       "1111587     None\n",
       "11416222    None\n",
       "6819512     None\n",
       "6352092     None\n",
       "17035538    None\n",
       "10871673    None\n",
       "16842198    None\n",
       "8901748     None\n",
       "4953814     None\n",
       "7427132     None\n",
       "15682442    None\n",
       "2670122     None\n",
       "6844323     None\n",
       "17630636    None\n",
       "132771      None\n",
       "9005214     None\n",
       "8349097     None\n",
       "9082876     None\n",
       "17724836    None\n",
       "4370710     None\n",
       "17682732    None\n",
       "11897926    None\n",
       "6605168     None\n",
       "Length: 16000210, dtype: object"
      ]
     },
     "execution_count": 9,
     "metadata": {},
     "output_type": "execute_result"
    }
   ],
   "source": [
    "df_train.apply(update_train, axis=1)"
   ]
  },
  {
   "cell_type": "markdown",
   "metadata": {},
   "source": [
    "Una vez que la matriz ha sido rellenada usamos una máscara para saber qué valores existen y cuales no:\n",
    "\n",
    "__Nota.__ `toscr()` devuelve una copia de la matriz en formato Compressed Sparse Row. El formato `lil` es más eficiente para añadir valores y el formato `scr` ocupa menos memoria en disco."
   ]
  },
  {
   "cell_type": "code",
   "execution_count": 10,
   "metadata": {},
   "outputs": [],
   "source": [
    "A = A.tocsr()\n",
    "mask = (A > 0)"
   ]
  },
  {
   "cell_type": "markdown",
   "metadata": {},
   "source": [
    "Ya tenemos nuestra matriz sparse. La almacenamos en un archivo `.npz`:"
   ]
  },
  {
   "cell_type": "code",
   "execution_count": 11,
   "metadata": {},
   "outputs": [],
   "source": [
    "from scipy.sparse import save_npz\n",
    "save_npz(\"./data/Atrain.npz\", A)"
   ]
  },
  {
   "cell_type": "markdown",
   "metadata": {},
   "source": [
    "Realizamos el mismo proceso para test:"
   ]
  },
  {
   "cell_type": "code",
   "execution_count": 12,
   "metadata": {},
   "outputs": [
    {
     "name": "stdout",
     "output_type": "stream",
     "text": [
      "Actualizando test\n",
      "Procesado: 0.025\n",
      "Procesado: 0.050\n",
      "Procesado: 0.075\n",
      "Procesado: 0.100\n",
      "Procesado: 0.125\n",
      "Procesado: 0.150\n",
      "Procesado: 0.175\n",
      "Procesado: 0.200\n",
      "Procesado: 0.225\n",
      "Procesado: 0.250\n",
      "Procesado: 0.275\n",
      "Procesado: 0.300\n",
      "Procesado: 0.325\n",
      "Procesado: 0.350\n",
      "Procesado: 0.375\n",
      "Procesado: 0.400\n",
      "Procesado: 0.425\n",
      "Procesado: 0.450\n",
      "Procesado: 0.475\n",
      "Procesado: 0.500\n",
      "Procesado: 0.525\n",
      "Procesado: 0.550\n",
      "Procesado: 0.575\n",
      "Procesado: 0.600\n",
      "Procesado: 0.625\n",
      "Procesado: 0.650\n",
      "Procesado: 0.675\n",
      "Procesado: 0.700\n",
      "Procesado: 0.725\n",
      "Procesado: 0.750\n",
      "Procesado: 0.775\n",
      "Procesado: 0.800\n",
      "Procesado: 0.825\n",
      "Procesado: 0.850\n",
      "Procesado: 0.875\n",
      "Procesado: 0.900\n",
      "Procesado: 0.925\n",
      "Procesado: 0.950\n",
      "Procesado: 0.975\n",
      "Procesado: 1.000\n"
     ]
    }
   ],
   "source": [
    "A_test = lil_matrix((N, M))\n",
    "print(\"Actualizando test\")\n",
    "count = 0 #necesario volver a ponerlo a 0\n",
    "def update_test(fila):\n",
    "    global count\n",
    "    count += 1\n",
    "    if count % 100000 == 0:\n",
    "        print(\"Procesado: %.3f\" % (float(count)/len(df_test))) #menos cantidad luego es mucho más rápida\n",
    "\n",
    "    i = int(fila.userId)\n",
    "    j = int(fila.movie_idx)\n",
    "    A_test[i,j] = fila.rating\n",
    "df_test.apply(update_test, axis=1)\n",
    "A_test = A_test.tocsr()\n",
    "mask_test = (A_test > 0)\n",
    "save_npz(\"./data/Atest.npz\", A_test)"
   ]
  },
  {
   "cell_type": "markdown",
   "metadata": {},
   "source": [
    "Con esto hemos terminado el preprocesamiento y hemos almacenado en sendos archivos `Atrain.npz` y `Atest.npz` las matrices sparse de entrenamiento y test."
   ]
  }
 ],
 "metadata": {
  "kernelspec": {
   "display_name": "Python 3",
   "language": "python",
   "name": "python3"
  },
  "language_info": {
   "codemirror_mode": {
    "name": "ipython",
    "version": 3
   },
   "file_extension": ".py",
   "mimetype": "text/x-python",
   "name": "python",
   "nbconvert_exporter": "python",
   "pygments_lexer": "ipython3",
   "version": "3.7.3"
  }
 },
 "nbformat": 4,
 "nbformat_minor": 4
}
