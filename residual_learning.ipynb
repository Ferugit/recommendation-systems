{
 "cells": [
  {
   "cell_type": "markdown",
   "metadata": {},
   "source": [
    "# Aprendizaje residual\n",
    "\n",
    "**Autor**: Arturo Sánchez Palacio\n",
    "\n",
    "Basado en: https://github.com/lazyprogrammer\n",
    "\n",
    "**Fecha de última revisión: 18/I/2020**"
   ]
  },
  {
   "cell_type": "markdown",
   "metadata": {},
   "source": [
    "Como siempre comenzamos instalando los módulos que necesitamos e importándolos:"
   ]
  },
  {
   "cell_type": "code",
   "execution_count": 1,
   "metadata": {},
   "outputs": [],
   "source": [
    "import pickle\n",
    "import numpy as np\n",
    "import pandas as pd\n",
    "import matplotlib.pyplot as plt\n",
    "from sklearn.utils import shuffle"
   ]
  },
  {
   "cell_type": "markdown",
   "metadata": {},
   "source": [
    "Keras está optimizado para trabajar con enormes tamaños de datos por lo que en este caso trabajaremos con la base de datos __completa__:"
   ]
  },
  {
   "cell_type": "code",
   "execution_count": 2,
   "metadata": {},
   "outputs": [],
   "source": [
    "df = pd.read_csv('./data/preprocessed_rating.csv')"
   ]
  },
  {
   "cell_type": "markdown",
   "metadata": {},
   "source": [
    "Calculamos el número total de usuarios y películas:"
   ]
  },
  {
   "cell_type": "code",
   "execution_count": 3,
   "metadata": {},
   "outputs": [],
   "source": [
    "N = df.userId.max() + 1\n",
    "M = df.movie_idx.max() + 1"
   ]
  },
  {
   "cell_type": "markdown",
   "metadata": {},
   "source": [
    "Como es habitual en los procesos de Machine Learning dividimos en entrenamiento y test. En este caso fijamos el tamaño de entrenamiento al 80%:"
   ]
  },
  {
   "cell_type": "code",
   "execution_count": 4,
   "metadata": {},
   "outputs": [],
   "source": [
    "df = shuffle(df)\n",
    "umbral = int(0.8*len(df))\n",
    "df_train = df.iloc[:umbral]\n",
    "df_test = df.iloc[umbral:]"
   ]
  },
  {
   "cell_type": "markdown",
   "metadata": {},
   "source": [
    "Inicializamos las variables habituales:"
   ]
  },
  {
   "cell_type": "code",
   "execution_count": 5,
   "metadata": {},
   "outputs": [],
   "source": [
    "K = 10 # dimension latente\n",
    "mu = df_train.rating.mean() #media global\n",
    "iteraciones = 15 \n",
    "reg = 0. # coeficiente de regularización"
   ]
  },
  {
   "cell_type": "markdown",
   "metadata": {},
   "source": [
    "Ya hemos fijado las bases para construir el modelo. Importamos los tipos de capas que vamos a usar:"
   ]
  },
  {
   "cell_type": "code",
   "execution_count": 6,
   "metadata": {},
   "outputs": [
    {
     "name": "stderr",
     "output_type": "stream",
     "text": [
      "Using TensorFlow backend.\n"
     ]
    }
   ],
   "source": [
    "from keras.layers import Input, Embedding, Flatten"
   ]
  },
  {
   "cell_type": "markdown",
   "metadata": {},
   "source": [
    "Empezamos creando las capas de entrada:"
   ]
  },
  {
   "cell_type": "code",
   "execution_count": 7,
   "metadata": {},
   "outputs": [],
   "source": [
    "u = Input(shape=(1,)) # escalar del usuario\n",
    "m = Input(shape=(1,)) # escalar de la película"
   ]
  },
  {
   "cell_type": "markdown",
   "metadata": {},
   "source": [
    "Realizamos el embedding con la regularización del vector de usuario y de película en las matrices:"
   ]
  },
  {
   "cell_type": "code",
   "execution_count": 8,
   "metadata": {},
   "outputs": [],
   "source": [
    "u_embedding = Embedding(N, K)(u) # dimensión: (N, 1, K)\n",
    "m_embedding = Embedding(M, K)(m) # dimensión: (N, 1, K)"
   ]
  },
  {
   "cell_type": "markdown",
   "metadata": {},
   "source": [
    "__Nota.__ Aquí es donde empieza a modificarse respecto al anterior."
   ]
  },
  {
   "cell_type": "markdown",
   "metadata": {},
   "source": [
    "En la rama principal se realiza la factorización de la matriz tal y como vimos en el notebook `keras_factorization`:"
   ]
  },
  {
   "cell_type": "code",
   "execution_count": 9,
   "metadata": {},
   "outputs": [],
   "source": [
    "from keras.layers import Dot, Add\n",
    "u_bias = Embedding(N, 1)(u) # dimensión: (N, 1, 1)\n",
    "m_bias = Embedding(M, 1)(m) # dimensión: (N, 1, 1)\n",
    "x = Dot(axes=2)([u_embedding, m_embedding]) # dimensión: (N, 1, 1)\n",
    "x = Add()([x, u_bias, m_bias])\n",
    "x = Flatten()(x) # dimensión: (N, 1)"
   ]
  },
  {
   "cell_type": "markdown",
   "metadata": {},
   "source": [
    "En la \"rama residual\" construimos el modelo del notebook `neural_network`:"
   ]
  },
  {
   "cell_type": "code",
   "execution_count": 10,
   "metadata": {},
   "outputs": [],
   "source": [
    "from keras.layers import Concatenate, Activation, Dropout, Dense\n",
    "u_embedding = Flatten()(u_embedding) # dimensión: (N, K)\n",
    "m_embedding = Flatten()(m_embedding) # dimensión: (N, K)\n",
    "y = Concatenate()([u_embedding, m_embedding]) # dimensión: (N, 2K)\n",
    "y = Dense(400)(y) # Capa densa con 400 neuronas\n",
    "y = Activation('relu')(y)\n",
    "y = Dropout(0.5)(y) # Dropout (reduce el input)\n",
    "y = Dense(1)(y) # Aseguramos que la salida sea un número (la predicción del error)"
   ]
  },
  {
   "cell_type": "markdown",
   "metadata": {},
   "source": [
    "Simplemente combinamos los dos modelos y con esto habríamos terminado de diseñar la arquitectura de la red:"
   ]
  },
  {
   "cell_type": "code",
   "execution_count": 11,
   "metadata": {},
   "outputs": [],
   "source": [
    "x = Add()([x, y])"
   ]
  },
  {
   "cell_type": "markdown",
   "metadata": {},
   "source": [
    "Una vez planteada la arquitectura del modelo el procedimiento es análogo al de los Notebooks anteriores. Instanciamos el modelo:"
   ]
  },
  {
   "cell_type": "code",
   "execution_count": 12,
   "metadata": {},
   "outputs": [],
   "source": [
    "from keras.models import Model\n",
    "model = Model(inputs=[u, m], outputs=x)"
   ]
  },
  {
   "cell_type": "markdown",
   "metadata": {},
   "source": [
    "Lo compilamos:"
   ]
  },
  {
   "cell_type": "code",
   "execution_count": 13,
   "metadata": {},
   "outputs": [],
   "source": [
    "from keras.optimizers import SGD\n",
    "model.compile(\n",
    "  loss='mse',\n",
    "  optimizer=SGD(lr=0.08, momentum=0.9),\n",
    "  metrics=['mse'],\n",
    ")"
   ]
  },
  {
   "cell_type": "markdown",
   "metadata": {},
   "source": [
    "Este es el modelo construido:"
   ]
  },
  {
   "cell_type": "code",
   "execution_count": 14,
   "metadata": {},
   "outputs": [
    {
     "name": "stdout",
     "output_type": "stream",
     "text": [
      "Model: \"model_1\"\n",
      "__________________________________________________________________________________________________\n",
      "Layer (type)                    Output Shape         Param #     Connected to                     \n",
      "==================================================================================================\n",
      "input_1 (InputLayer)            (None, 1)            0                                            \n",
      "__________________________________________________________________________________________________\n",
      "input_2 (InputLayer)            (None, 1)            0                                            \n",
      "__________________________________________________________________________________________________\n",
      "embedding_1 (Embedding)         (None, 1, 10)        1384930     input_1[0][0]                    \n",
      "__________________________________________________________________________________________________\n",
      "embedding_2 (Embedding)         (None, 1, 10)        267440      input_2[0][0]                    \n",
      "__________________________________________________________________________________________________\n",
      "flatten_2 (Flatten)             (None, 10)           0           embedding_1[0][0]                \n",
      "__________________________________________________________________________________________________\n",
      "flatten_3 (Flatten)             (None, 10)           0           embedding_2[0][0]                \n",
      "__________________________________________________________________________________________________\n",
      "concatenate_1 (Concatenate)     (None, 20)           0           flatten_2[0][0]                  \n",
      "                                                                 flatten_3[0][0]                  \n",
      "__________________________________________________________________________________________________\n",
      "dense_1 (Dense)                 (None, 400)          8400        concatenate_1[0][0]              \n",
      "__________________________________________________________________________________________________\n",
      "dot_1 (Dot)                     (None, 1, 1)         0           embedding_1[0][0]                \n",
      "                                                                 embedding_2[0][0]                \n",
      "__________________________________________________________________________________________________\n",
      "embedding_3 (Embedding)         (None, 1, 1)         138493      input_1[0][0]                    \n",
      "__________________________________________________________________________________________________\n",
      "embedding_4 (Embedding)         (None, 1, 1)         26744       input_2[0][0]                    \n",
      "__________________________________________________________________________________________________\n",
      "activation_1 (Activation)       (None, 400)          0           dense_1[0][0]                    \n",
      "__________________________________________________________________________________________________\n",
      "add_1 (Add)                     (None, 1, 1)         0           dot_1[0][0]                      \n",
      "                                                                 embedding_3[0][0]                \n",
      "                                                                 embedding_4[0][0]                \n",
      "__________________________________________________________________________________________________\n",
      "dropout_1 (Dropout)             (None, 400)          0           activation_1[0][0]               \n",
      "__________________________________________________________________________________________________\n",
      "flatten_1 (Flatten)             (None, 1)            0           add_1[0][0]                      \n",
      "__________________________________________________________________________________________________\n",
      "dense_2 (Dense)                 (None, 1)            401         dropout_1[0][0]                  \n",
      "__________________________________________________________________________________________________\n",
      "add_2 (Add)                     (None, 1)            0           flatten_1[0][0]                  \n",
      "                                                                 dense_2[0][0]                    \n",
      "==================================================================================================\n",
      "Total params: 1,826,408\n",
      "Trainable params: 1,826,408\n",
      "Non-trainable params: 0\n",
      "__________________________________________________________________________________________________\n"
     ]
    }
   ],
   "source": [
    "model.summary()"
   ]
  },
  {
   "cell_type": "markdown",
   "metadata": {},
   "source": [
    "Nuestro modelo ya está listo para ser entrenado:"
   ]
  },
  {
   "cell_type": "code",
   "execution_count": 15,
   "metadata": {},
   "outputs": [
    {
     "name": "stderr",
     "output_type": "stream",
     "text": [
      "/Users/arturosanchezpalacio/Entornos virtuales/recommendation_system_course/lib/python3.7/site-packages/tensorflow_core/python/framework/indexed_slices.py:433: UserWarning: Converting sparse IndexedSlices to a dense Tensor of unknown shape. This may consume a large amount of memory.\n",
      "  \"Converting sparse IndexedSlices to a dense Tensor of unknown shape. \"\n"
     ]
    },
    {
     "name": "stdout",
     "output_type": "stream",
     "text": [
      "Train on 16000210 samples, validate on 4000053 samples\n",
      "Epoch 1/15\n",
      "16000210/16000210 [==============================] - 782s 49us/step - loss: 0.7686 - mse: 0.7686 - val_loss: 0.7302 - val_mse: 0.7302\n",
      "Epoch 2/15\n",
      "16000210/16000210 [==============================] - 786s 49us/step - loss: 0.7117 - mse: 0.7117 - val_loss: 0.7062 - val_mse: 0.7062\n",
      "Epoch 3/15\n",
      "16000210/16000210 [==============================] - 788s 49us/step - loss: 0.6753 - mse: 0.6753 - val_loss: 0.6715 - val_mse: 0.6715\n",
      "Epoch 4/15\n",
      "16000210/16000210 [==============================] - 790s 49us/step - loss: 0.6395 - mse: 0.6395 - val_loss: 0.6474 - val_mse: 0.6474\n",
      "Epoch 5/15\n",
      "16000210/16000210 [==============================] - 788s 49us/step - loss: 0.6140 - mse: 0.6140 - val_loss: 0.6466 - val_mse: 0.6466\n",
      "Epoch 6/15\n",
      "16000210/16000210 [==============================] - 803s 50us/step - loss: 0.5976 - mse: 0.5976 - val_loss: 0.6476 - val_mse: 0.6476\n",
      "Epoch 7/15\n",
      "16000210/16000210 [==============================] - 804s 50us/step - loss: 0.5867 - mse: 0.5867 - val_loss: 0.6297 - val_mse: 0.6297\n",
      "Epoch 8/15\n",
      "16000210/16000210 [==============================] - 806s 50us/step - loss: 0.5790 - mse: 0.5790 - val_loss: 0.6296 - val_mse: 0.6296\n",
      "Epoch 9/15\n",
      "16000210/16000210 [==============================] - 809s 51us/step - loss: 0.5732 - mse: 0.5732 - val_loss: 0.6275 - val_mse: 0.6275\n",
      "Epoch 10/15\n",
      "16000210/16000210 [==============================] - 811s 51us/step - loss: 0.5686 - mse: 0.5686 - val_loss: 0.6302 - val_mse: 0.6302\n",
      "Epoch 11/15\n",
      "16000210/16000210 [==============================] - 812s 51us/step - loss: 0.5649 - mse: 0.5649 - val_loss: 0.6271 - val_mse: 0.6271\n",
      "Epoch 12/15\n",
      "16000210/16000210 [==============================] - 815s 51us/step - loss: 0.5618 - mse: 0.5618 - val_loss: 0.6404 - val_mse: 0.6404\n",
      "Epoch 13/15\n",
      "16000210/16000210 [==============================] - 814s 51us/step - loss: 0.5592 - mse: 0.5592 - val_loss: 0.6304 - val_mse: 0.6304\n",
      "Epoch 14/15\n",
      "16000210/16000210 [==============================] - 814s 51us/step - loss: 0.5570 - mse: 0.5570 - val_loss: 0.6344 - val_mse: 0.6344\n",
      "Epoch 15/15\n",
      "16000210/16000210 [==============================] - 813s 51us/step - loss: 0.5549 - mse: 0.5549 - val_loss: 0.6465 - val_mse: 0.6465\n"
     ]
    }
   ],
   "source": [
    "r = model.fit(\n",
    "  x=[df_train.userId.values, df_train.movie_idx.values], #variables de entrada\n",
    "  y=df_train.rating.values - mu, #etiquetas a predecir\n",
    "  epochs=iteraciones,\n",
    "  batch_size=128, #tamaño del batch\n",
    "  validation_data=([df_test.userId.values, df_test.movie_idx.values],  df_test.rating.values - mu) #datos de validacion\n",
    ")"
   ]
  },
  {
   "cell_type": "markdown",
   "metadata": {},
   "source": [
    "El objeto r almacena en su historia las pérdidas a lo largo del entrenamiento y podemos tanto observarlas como representarlas:"
   ]
  },
  {
   "cell_type": "code",
   "execution_count": 21,
   "metadata": {},
   "outputs": [
    {
     "data": {
      "image/png": "[encoded data removed]",
      "text/plain": [
       "<Figure size 432x288 with 1 Axes>"
      ]
     },
     "metadata": {
      "needs_background": "light"
     },
     "output_type": "display_data"
    },
    {
     "data": {
      "image/png": "[encoded data removed]",
      "text/plain": [
       "<Figure size 432x288 with 1 Axes>"
      ]
     },
     "metadata": {
      "needs_background": "light"
     },
     "output_type": "display_data"
    }
   ],
   "source": [
    "# plot losses\n",
    "plt.plot(r.history['loss'], label=\"train loss\")\n",
    "plt.plot(r.history['val_loss'], label=\"test loss\")\n",
    "plt.legend()\n",
    "plt.show()\n",
    "\n",
    "# plot mse\n",
    "plt.plot(r.history['mse'], label=\"train mse\")\n",
    "plt.plot(r.history['val_mse'], label=\"test mse\")\n",
    "plt.legend()\n",
    "plt.show()"
   ]
  },
  {
   "cell_type": "markdown",
   "metadata": {},
   "source": [
    "## Conclusión"
   ]
  },
  {
   "cell_type": "markdown",
   "metadata": {},
   "source": [
    "Parece que los resultados no mejoran mucho. Esto parece sugerirnos que en este caso concreto no hay una relación no lineal que aprender a partir de los residuos. Esto no es generalizable a los problemas de recomendación si no tan solo a los datos con los que estamos trabajando en este caso."
   ]
  }
 ],
 "metadata": {
  "kernelspec": {
   "display_name": "Python 3",
   "language": "python",
   "name": "python3"
  },
  "language_info": {
   "codemirror_mode": {
    "name": "ipython",
    "version": 3
   },
   "file_extension": ".py",
   "mimetype": "text/x-python",
   "name": "python",
   "nbconvert_exporter": "python",
   "pygments_lexer": "ipython3",
   "version": "3.7.3"
  }
 },
 "nbformat": 4,
 "nbformat_minor": 4
}
